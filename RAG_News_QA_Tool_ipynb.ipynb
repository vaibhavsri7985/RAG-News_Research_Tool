{
  "nbformat": 4,
  "nbformat_minor": 0,
  "metadata": {
    "colab": {
      "provenance": []
    },
    "kernelspec": {
      "name": "python3",
      "display_name": "Python 3"
    },
    "language_info": {
      "name": "python"
    }
  },
  "cells": [
    {
      "cell_type": "markdown",
      "source": [
        "### Installing necessary libraries\n",
        "\n"
      ],
      "metadata": {
        "id": "iYjn-1hemmvT"
      }
    },
    {
      "cell_type": "code",
      "execution_count": 4,
      "metadata": {
        "colab": {
          "base_uri": "https://localhost:8080/"
        },
        "id": "Zo4K0rL-zwsm",
        "outputId": "5310c97b-669d-4192-f432-e939c9bc2426"
      },
      "outputs": [
        {
          "output_type": "stream",
          "name": "stdout",
          "text": [
            "Collecting langchain-community\n",
            "  Downloading langchain_community-0.3.30-py3-none-any.whl.metadata (3.0 kB)\n",
            "Collecting faiss-cpu\n",
            "  Downloading faiss_cpu-1.12.0-cp312-cp312-manylinux_2_27_x86_64.manylinux_2_28_x86_64.whl.metadata (5.1 kB)\n",
            "Collecting langchain-huggingface\n",
            "  Downloading langchain_huggingface-0.3.1-py3-none-any.whl.metadata (996 bytes)\n",
            "Requirement already satisfied: langchain-core<2.0.0,>=0.3.75 in /usr/local/lib/python3.12/dist-packages (from langchain-community) (0.3.76)\n",
            "Requirement already satisfied: langchain<2.0.0,>=0.3.27 in /usr/local/lib/python3.12/dist-packages (from langchain-community) (0.3.27)\n",
            "Requirement already satisfied: SQLAlchemy<3.0.0,>=1.4.0 in /usr/local/lib/python3.12/dist-packages (from langchain-community) (2.0.43)\n",
            "Collecting requests<3.0.0,>=2.32.5 (from langchain-community)\n",
            "  Downloading requests-2.32.5-py3-none-any.whl.metadata (4.9 kB)\n",
            "Requirement already satisfied: PyYAML<7.0.0,>=5.3.0 in /usr/local/lib/python3.12/dist-packages (from langchain-community) (6.0.2)\n",
            "Requirement already satisfied: aiohttp<4.0.0,>=3.8.3 in /usr/local/lib/python3.12/dist-packages (from langchain-community) (3.12.15)\n",
            "Requirement already satisfied: tenacity!=8.4.0,<10.0.0,>=8.1.0 in /usr/local/lib/python3.12/dist-packages (from langchain-community) (8.5.0)\n",
            "Collecting dataclasses-json<0.7.0,>=0.6.7 (from langchain-community)\n",
            "  Downloading dataclasses_json-0.6.7-py3-none-any.whl.metadata (25 kB)\n",
            "Requirement already satisfied: pydantic-settings<3.0.0,>=2.10.1 in /usr/local/lib/python3.12/dist-packages (from langchain-community) (2.10.1)\n",
            "Requirement already satisfied: langsmith<1.0.0,>=0.1.125 in /usr/local/lib/python3.12/dist-packages (from langchain-community) (0.4.28)\n",
            "Requirement already satisfied: httpx-sse<1.0.0,>=0.4.0 in /usr/local/lib/python3.12/dist-packages (from langchain-community) (0.4.1)\n",
            "Requirement already satisfied: numpy>=1.26.2 in /usr/local/lib/python3.12/dist-packages (from langchain-community) (2.0.2)\n",
            "Requirement already satisfied: packaging in /usr/local/lib/python3.12/dist-packages (from faiss-cpu) (25.0)\n",
            "Requirement already satisfied: tokenizers>=0.19.1 in /usr/local/lib/python3.12/dist-packages (from langchain-huggingface) (0.22.0)\n",
            "Requirement already satisfied: huggingface-hub>=0.33.4 in /usr/local/lib/python3.12/dist-packages (from langchain-huggingface) (0.35.0)\n",
            "Requirement already satisfied: aiohappyeyeballs>=2.5.0 in /usr/local/lib/python3.12/dist-packages (from aiohttp<4.0.0,>=3.8.3->langchain-community) (2.6.1)\n",
            "Requirement already satisfied: aiosignal>=1.4.0 in /usr/local/lib/python3.12/dist-packages (from aiohttp<4.0.0,>=3.8.3->langchain-community) (1.4.0)\n",
            "Requirement already satisfied: attrs>=17.3.0 in /usr/local/lib/python3.12/dist-packages (from aiohttp<4.0.0,>=3.8.3->langchain-community) (25.3.0)\n",
            "Requirement already satisfied: frozenlist>=1.1.1 in /usr/local/lib/python3.12/dist-packages (from aiohttp<4.0.0,>=3.8.3->langchain-community) (1.7.0)\n",
            "Requirement already satisfied: multidict<7.0,>=4.5 in /usr/local/lib/python3.12/dist-packages (from aiohttp<4.0.0,>=3.8.3->langchain-community) (6.6.4)\n",
            "Requirement already satisfied: propcache>=0.2.0 in /usr/local/lib/python3.12/dist-packages (from aiohttp<4.0.0,>=3.8.3->langchain-community) (0.3.2)\n",
            "Requirement already satisfied: yarl<2.0,>=1.17.0 in /usr/local/lib/python3.12/dist-packages (from aiohttp<4.0.0,>=3.8.3->langchain-community) (1.20.1)\n",
            "Collecting marshmallow<4.0.0,>=3.18.0 (from dataclasses-json<0.7.0,>=0.6.7->langchain-community)\n",
            "  Downloading marshmallow-3.26.1-py3-none-any.whl.metadata (7.3 kB)\n",
            "Collecting typing-inspect<1,>=0.4.0 (from dataclasses-json<0.7.0,>=0.6.7->langchain-community)\n",
            "  Downloading typing_inspect-0.9.0-py3-none-any.whl.metadata (1.5 kB)\n",
            "Requirement already satisfied: filelock in /usr/local/lib/python3.12/dist-packages (from huggingface-hub>=0.33.4->langchain-huggingface) (3.19.1)\n",
            "Requirement already satisfied: fsspec>=2023.5.0 in /usr/local/lib/python3.12/dist-packages (from huggingface-hub>=0.33.4->langchain-huggingface) (2025.3.0)\n",
            "Requirement already satisfied: tqdm>=4.42.1 in /usr/local/lib/python3.12/dist-packages (from huggingface-hub>=0.33.4->langchain-huggingface) (4.67.1)\n",
            "Requirement already satisfied: typing-extensions>=3.7.4.3 in /usr/local/lib/python3.12/dist-packages (from huggingface-hub>=0.33.4->langchain-huggingface) (4.15.0)\n",
            "Requirement already satisfied: hf-xet<2.0.0,>=1.1.3 in /usr/local/lib/python3.12/dist-packages (from huggingface-hub>=0.33.4->langchain-huggingface) (1.1.10)\n",
            "Requirement already satisfied: langchain-text-splitters<1.0.0,>=0.3.9 in /usr/local/lib/python3.12/dist-packages (from langchain<2.0.0,>=0.3.27->langchain-community) (0.3.11)\n",
            "Requirement already satisfied: pydantic<3.0.0,>=2.7.4 in /usr/local/lib/python3.12/dist-packages (from langchain<2.0.0,>=0.3.27->langchain-community) (2.11.9)\n",
            "Requirement already satisfied: jsonpatch<2.0,>=1.33 in /usr/local/lib/python3.12/dist-packages (from langchain-core<2.0.0,>=0.3.75->langchain-community) (1.33)\n",
            "Requirement already satisfied: httpx<1,>=0.23.0 in /usr/local/lib/python3.12/dist-packages (from langsmith<1.0.0,>=0.1.125->langchain-community) (0.28.1)\n",
            "Requirement already satisfied: orjson>=3.9.14 in /usr/local/lib/python3.12/dist-packages (from langsmith<1.0.0,>=0.1.125->langchain-community) (3.11.3)\n",
            "Requirement already satisfied: requests-toolbelt>=1.0.0 in /usr/local/lib/python3.12/dist-packages (from langsmith<1.0.0,>=0.1.125->langchain-community) (1.0.0)\n",
            "Requirement already satisfied: zstandard>=0.23.0 in /usr/local/lib/python3.12/dist-packages (from langsmith<1.0.0,>=0.1.125->langchain-community) (0.25.0)\n",
            "Requirement already satisfied: python-dotenv>=0.21.0 in /usr/local/lib/python3.12/dist-packages (from pydantic-settings<3.0.0,>=2.10.1->langchain-community) (1.1.1)\n",
            "Requirement already satisfied: typing-inspection>=0.4.0 in /usr/local/lib/python3.12/dist-packages (from pydantic-settings<3.0.0,>=2.10.1->langchain-community) (0.4.1)\n",
            "Requirement already satisfied: charset_normalizer<4,>=2 in /usr/local/lib/python3.12/dist-packages (from requests<3.0.0,>=2.32.5->langchain-community) (3.4.3)\n",
            "Requirement already satisfied: idna<4,>=2.5 in /usr/local/lib/python3.12/dist-packages (from requests<3.0.0,>=2.32.5->langchain-community) (3.10)\n",
            "Requirement already satisfied: urllib3<3,>=1.21.1 in /usr/local/lib/python3.12/dist-packages (from requests<3.0.0,>=2.32.5->langchain-community) (2.5.0)\n",
            "Requirement already satisfied: certifi>=2017.4.17 in /usr/local/lib/python3.12/dist-packages (from requests<3.0.0,>=2.32.5->langchain-community) (2025.8.3)\n",
            "Requirement already satisfied: greenlet>=1 in /usr/local/lib/python3.12/dist-packages (from SQLAlchemy<3.0.0,>=1.4.0->langchain-community) (3.2.4)\n",
            "Requirement already satisfied: anyio in /usr/local/lib/python3.12/dist-packages (from httpx<1,>=0.23.0->langsmith<1.0.0,>=0.1.125->langchain-community) (4.10.0)\n",
            "Requirement already satisfied: httpcore==1.* in /usr/local/lib/python3.12/dist-packages (from httpx<1,>=0.23.0->langsmith<1.0.0,>=0.1.125->langchain-community) (1.0.9)\n",
            "Requirement already satisfied: h11>=0.16 in /usr/local/lib/python3.12/dist-packages (from httpcore==1.*->httpx<1,>=0.23.0->langsmith<1.0.0,>=0.1.125->langchain-community) (0.16.0)\n",
            "Requirement already satisfied: jsonpointer>=1.9 in /usr/local/lib/python3.12/dist-packages (from jsonpatch<2.0,>=1.33->langchain-core<2.0.0,>=0.3.75->langchain-community) (3.0.0)\n",
            "Requirement already satisfied: annotated-types>=0.6.0 in /usr/local/lib/python3.12/dist-packages (from pydantic<3.0.0,>=2.7.4->langchain<2.0.0,>=0.3.27->langchain-community) (0.7.0)\n",
            "Requirement already satisfied: pydantic-core==2.33.2 in /usr/local/lib/python3.12/dist-packages (from pydantic<3.0.0,>=2.7.4->langchain<2.0.0,>=0.3.27->langchain-community) (2.33.2)\n",
            "Collecting mypy-extensions>=0.3.0 (from typing-inspect<1,>=0.4.0->dataclasses-json<0.7.0,>=0.6.7->langchain-community)\n",
            "  Downloading mypy_extensions-1.1.0-py3-none-any.whl.metadata (1.1 kB)\n",
            "Requirement already satisfied: sniffio>=1.1 in /usr/local/lib/python3.12/dist-packages (from anyio->httpx<1,>=0.23.0->langsmith<1.0.0,>=0.1.125->langchain-community) (1.3.1)\n",
            "Downloading langchain_community-0.3.30-py3-none-any.whl (2.5 MB)\n",
            "\u001b[2K   \u001b[90m━━━━━━━━━━━━━━━━━━━━━━━━━━━━━━━━━━━━━━━━\u001b[0m \u001b[32m2.5/2.5 MB\u001b[0m \u001b[31m31.6 MB/s\u001b[0m eta \u001b[36m0:00:00\u001b[0m\n",
            "\u001b[?25hDownloading faiss_cpu-1.12.0-cp312-cp312-manylinux_2_27_x86_64.manylinux_2_28_x86_64.whl (31.4 MB)\n",
            "\u001b[2K   \u001b[90m━━━━━━━━━━━━━━━━━━━━━━━━━━━━━━━━━━━━━━━━\u001b[0m \u001b[32m31.4/31.4 MB\u001b[0m \u001b[31m44.2 MB/s\u001b[0m eta \u001b[36m0:00:00\u001b[0m\n",
            "\u001b[?25hDownloading langchain_huggingface-0.3.1-py3-none-any.whl (27 kB)\n",
            "Downloading dataclasses_json-0.6.7-py3-none-any.whl (28 kB)\n",
            "Downloading requests-2.32.5-py3-none-any.whl (64 kB)\n",
            "\u001b[2K   \u001b[90m━━━━━━━━━━━━━━━━━━━━━━━━━━━━━━━━━━━━━━━━\u001b[0m \u001b[32m64.7/64.7 kB\u001b[0m \u001b[31m5.0 MB/s\u001b[0m eta \u001b[36m0:00:00\u001b[0m\n",
            "\u001b[?25hDownloading marshmallow-3.26.1-py3-none-any.whl (50 kB)\n",
            "\u001b[2K   \u001b[90m━━━━━━━━━━━━━━━━━━━━━━━━━━━━━━━━━━━━━━━━\u001b[0m \u001b[32m50.9/50.9 kB\u001b[0m \u001b[31m3.9 MB/s\u001b[0m eta \u001b[36m0:00:00\u001b[0m\n",
            "\u001b[?25hDownloading typing_inspect-0.9.0-py3-none-any.whl (8.8 kB)\n",
            "Downloading mypy_extensions-1.1.0-py3-none-any.whl (5.0 kB)\n",
            "Installing collected packages: requests, mypy-extensions, marshmallow, faiss-cpu, typing-inspect, dataclasses-json, langchain-huggingface, langchain-community\n",
            "  Attempting uninstall: requests\n",
            "    Found existing installation: requests 2.32.4\n",
            "    Uninstalling requests-2.32.4:\n",
            "      Successfully uninstalled requests-2.32.4\n",
            "\u001b[31mERROR: pip's dependency resolver does not currently take into account all the packages that are installed. This behaviour is the source of the following dependency conflicts.\n",
            "google-colab 1.0.0 requires requests==2.32.4, but you have requests 2.32.5 which is incompatible.\u001b[0m\u001b[31m\n",
            "\u001b[0mSuccessfully installed dataclasses-json-0.6.7 faiss-cpu-1.12.0 langchain-community-0.3.30 langchain-huggingface-0.3.1 marshmallow-3.26.1 mypy-extensions-1.1.0 requests-2.32.5 typing-inspect-0.9.0\n"
          ]
        }
      ],
      "source": [
        "pip install langchain-community faiss-cpu langchain-huggingface"
      ]
    },
    {
      "cell_type": "code",
      "source": [
        "pip install unstructured"
      ],
      "metadata": {
        "colab": {
          "base_uri": "https://localhost:8080/"
        },
        "id": "Zm0-8xpO2ydQ",
        "outputId": "a818307a-ee69-4311-ba4a-9025a0535fdc"
      },
      "execution_count": 5,
      "outputs": [
        {
          "output_type": "stream",
          "name": "stdout",
          "text": [
            "Collecting unstructured\n",
            "  Downloading unstructured-0.18.15-py3-none-any.whl.metadata (24 kB)\n",
            "Requirement already satisfied: charset-normalizer in /usr/local/lib/python3.12/dist-packages (from unstructured) (3.4.3)\n",
            "Collecting filetype (from unstructured)\n",
            "  Downloading filetype-1.2.0-py2.py3-none-any.whl.metadata (6.5 kB)\n",
            "Collecting python-magic (from unstructured)\n",
            "  Downloading python_magic-0.4.27-py2.py3-none-any.whl.metadata (5.8 kB)\n",
            "Requirement already satisfied: lxml in /usr/local/lib/python3.12/dist-packages (from unstructured) (5.4.0)\n",
            "Requirement already satisfied: nltk in /usr/local/lib/python3.12/dist-packages (from unstructured) (3.9.1)\n",
            "Requirement already satisfied: requests in /usr/local/lib/python3.12/dist-packages (from unstructured) (2.32.5)\n",
            "Requirement already satisfied: beautifulsoup4 in /usr/local/lib/python3.12/dist-packages (from unstructured) (4.13.5)\n",
            "Collecting emoji (from unstructured)\n",
            "  Downloading emoji-2.15.0-py3-none-any.whl.metadata (5.7 kB)\n",
            "Requirement already satisfied: dataclasses-json in /usr/local/lib/python3.12/dist-packages (from unstructured) (0.6.7)\n",
            "Collecting python-iso639 (from unstructured)\n",
            "  Downloading python_iso639-2025.2.18-py3-none-any.whl.metadata (14 kB)\n",
            "Collecting langdetect (from unstructured)\n",
            "  Downloading langdetect-1.0.9.tar.gz (981 kB)\n",
            "\u001b[2K     \u001b[90m━━━━━━━━━━━━━━━━━━━━━━━━━━━━━━━━━━━━━━\u001b[0m \u001b[32m981.5/981.5 kB\u001b[0m \u001b[31m14.7 MB/s\u001b[0m eta \u001b[36m0:00:00\u001b[0m\n",
            "\u001b[?25h  Preparing metadata (setup.py) ... \u001b[?25l\u001b[?25hdone\n",
            "Requirement already satisfied: numpy in /usr/local/lib/python3.12/dist-packages (from unstructured) (2.0.2)\n",
            "Collecting rapidfuzz (from unstructured)\n",
            "  Downloading rapidfuzz-3.14.1-cp312-cp312-manylinux_2_27_x86_64.manylinux_2_28_x86_64.whl.metadata (12 kB)\n",
            "Collecting backoff (from unstructured)\n",
            "  Downloading backoff-2.2.1-py3-none-any.whl.metadata (14 kB)\n",
            "Requirement already satisfied: typing-extensions in /usr/local/lib/python3.12/dist-packages (from unstructured) (4.15.0)\n",
            "Collecting unstructured-client (from unstructured)\n",
            "  Downloading unstructured_client-0.42.3-py3-none-any.whl.metadata (23 kB)\n",
            "Requirement already satisfied: wrapt in /usr/local/lib/python3.12/dist-packages (from unstructured) (1.17.3)\n",
            "Requirement already satisfied: tqdm in /usr/local/lib/python3.12/dist-packages (from unstructured) (4.67.1)\n",
            "Requirement already satisfied: psutil in /usr/local/lib/python3.12/dist-packages (from unstructured) (5.9.5)\n",
            "Collecting python-oxmsg (from unstructured)\n",
            "  Downloading python_oxmsg-0.0.2-py3-none-any.whl.metadata (5.0 kB)\n",
            "Requirement already satisfied: html5lib in /usr/local/lib/python3.12/dist-packages (from unstructured) (1.1)\n",
            "Requirement already satisfied: soupsieve>1.2 in /usr/local/lib/python3.12/dist-packages (from beautifulsoup4->unstructured) (2.8)\n",
            "Requirement already satisfied: marshmallow<4.0.0,>=3.18.0 in /usr/local/lib/python3.12/dist-packages (from dataclasses-json->unstructured) (3.26.1)\n",
            "Requirement already satisfied: typing-inspect<1,>=0.4.0 in /usr/local/lib/python3.12/dist-packages (from dataclasses-json->unstructured) (0.9.0)\n",
            "Requirement already satisfied: six>=1.9 in /usr/local/lib/python3.12/dist-packages (from html5lib->unstructured) (1.17.0)\n",
            "Requirement already satisfied: webencodings in /usr/local/lib/python3.12/dist-packages (from html5lib->unstructured) (0.5.1)\n",
            "Requirement already satisfied: click in /usr/local/lib/python3.12/dist-packages (from nltk->unstructured) (8.2.1)\n",
            "Requirement already satisfied: joblib in /usr/local/lib/python3.12/dist-packages (from nltk->unstructured) (1.5.2)\n",
            "Requirement already satisfied: regex>=2021.8.3 in /usr/local/lib/python3.12/dist-packages (from nltk->unstructured) (2024.11.6)\n",
            "Collecting olefile (from python-oxmsg->unstructured)\n",
            "  Downloading olefile-0.47-py2.py3-none-any.whl.metadata (9.7 kB)\n",
            "Requirement already satisfied: idna<4,>=2.5 in /usr/local/lib/python3.12/dist-packages (from requests->unstructured) (3.10)\n",
            "Requirement already satisfied: urllib3<3,>=1.21.1 in /usr/local/lib/python3.12/dist-packages (from requests->unstructured) (2.5.0)\n",
            "Requirement already satisfied: certifi>=2017.4.17 in /usr/local/lib/python3.12/dist-packages (from requests->unstructured) (2025.8.3)\n",
            "Requirement already satisfied: aiofiles>=24.1.0 in /usr/local/lib/python3.12/dist-packages (from unstructured-client->unstructured) (24.1.0)\n",
            "Requirement already satisfied: cryptography>=3.1 in /usr/local/lib/python3.12/dist-packages (from unstructured-client->unstructured) (43.0.3)\n",
            "Requirement already satisfied: httpcore>=1.0.9 in /usr/local/lib/python3.12/dist-packages (from unstructured-client->unstructured) (1.0.9)\n",
            "Requirement already satisfied: httpx>=0.27.0 in /usr/local/lib/python3.12/dist-packages (from unstructured-client->unstructured) (0.28.1)\n",
            "Requirement already satisfied: pydantic>=2.11.2 in /usr/local/lib/python3.12/dist-packages (from unstructured-client->unstructured) (2.11.9)\n",
            "Collecting pypdf>=4.0 (from unstructured-client->unstructured)\n",
            "  Downloading pypdf-6.1.1-py3-none-any.whl.metadata (7.1 kB)\n",
            "Requirement already satisfied: requests-toolbelt>=1.0.0 in /usr/local/lib/python3.12/dist-packages (from unstructured-client->unstructured) (1.0.0)\n",
            "Requirement already satisfied: cffi>=1.12 in /usr/local/lib/python3.12/dist-packages (from cryptography>=3.1->unstructured-client->unstructured) (2.0.0)\n",
            "Requirement already satisfied: h11>=0.16 in /usr/local/lib/python3.12/dist-packages (from httpcore>=1.0.9->unstructured-client->unstructured) (0.16.0)\n",
            "Requirement already satisfied: anyio in /usr/local/lib/python3.12/dist-packages (from httpx>=0.27.0->unstructured-client->unstructured) (4.10.0)\n",
            "Requirement already satisfied: packaging>=17.0 in /usr/local/lib/python3.12/dist-packages (from marshmallow<4.0.0,>=3.18.0->dataclasses-json->unstructured) (25.0)\n",
            "Requirement already satisfied: annotated-types>=0.6.0 in /usr/local/lib/python3.12/dist-packages (from pydantic>=2.11.2->unstructured-client->unstructured) (0.7.0)\n",
            "Requirement already satisfied: pydantic-core==2.33.2 in /usr/local/lib/python3.12/dist-packages (from pydantic>=2.11.2->unstructured-client->unstructured) (2.33.2)\n",
            "Requirement already satisfied: typing-inspection>=0.4.0 in /usr/local/lib/python3.12/dist-packages (from pydantic>=2.11.2->unstructured-client->unstructured) (0.4.1)\n",
            "Requirement already satisfied: mypy-extensions>=0.3.0 in /usr/local/lib/python3.12/dist-packages (from typing-inspect<1,>=0.4.0->dataclasses-json->unstructured) (1.1.0)\n",
            "Requirement already satisfied: pycparser in /usr/local/lib/python3.12/dist-packages (from cffi>=1.12->cryptography>=3.1->unstructured-client->unstructured) (2.23)\n",
            "Requirement already satisfied: sniffio>=1.1 in /usr/local/lib/python3.12/dist-packages (from anyio->httpx>=0.27.0->unstructured-client->unstructured) (1.3.1)\n",
            "Downloading unstructured-0.18.15-py3-none-any.whl (1.8 MB)\n",
            "\u001b[2K   \u001b[90m━━━━━━━━━━━━━━━━━━━━━━━━━━━━━━━━━━━━━━━━\u001b[0m \u001b[32m1.8/1.8 MB\u001b[0m \u001b[31m69.1 MB/s\u001b[0m eta \u001b[36m0:00:00\u001b[0m\n",
            "\u001b[?25hDownloading backoff-2.2.1-py3-none-any.whl (15 kB)\n",
            "Downloading emoji-2.15.0-py3-none-any.whl (608 kB)\n",
            "\u001b[2K   \u001b[90m━━━━━━━━━━━━━━━━━━━━━━━━━━━━━━━━━━━━━━━━\u001b[0m \u001b[32m608.4/608.4 kB\u001b[0m \u001b[31m38.9 MB/s\u001b[0m eta \u001b[36m0:00:00\u001b[0m\n",
            "\u001b[?25hDownloading filetype-1.2.0-py2.py3-none-any.whl (19 kB)\n",
            "Downloading python_iso639-2025.2.18-py3-none-any.whl (167 kB)\n",
            "\u001b[2K   \u001b[90m━━━━━━━━━━━━━━━━━━━━━━━━━━━━━━━━━━━━━━━━\u001b[0m \u001b[32m167.6/167.6 kB\u001b[0m \u001b[31m13.1 MB/s\u001b[0m eta \u001b[36m0:00:00\u001b[0m\n",
            "\u001b[?25hDownloading python_magic-0.4.27-py2.py3-none-any.whl (13 kB)\n",
            "Downloading python_oxmsg-0.0.2-py3-none-any.whl (31 kB)\n",
            "Downloading rapidfuzz-3.14.1-cp312-cp312-manylinux_2_27_x86_64.manylinux_2_28_x86_64.whl (3.2 MB)\n",
            "\u001b[2K   \u001b[90m━━━━━━━━━━━━━━━━━━━━━━━━━━━━━━━━━━━━━━━━\u001b[0m \u001b[32m3.2/3.2 MB\u001b[0m \u001b[31m64.8 MB/s\u001b[0m eta \u001b[36m0:00:00\u001b[0m\n",
            "\u001b[?25hDownloading unstructured_client-0.42.3-py3-none-any.whl (207 kB)\n",
            "\u001b[2K   \u001b[90m━━━━━━━━━━━━━━━━━━━━━━━━━━━━━━━━━━━━━━━━\u001b[0m \u001b[32m207.8/207.8 kB\u001b[0m \u001b[31m12.1 MB/s\u001b[0m eta \u001b[36m0:00:00\u001b[0m\n",
            "\u001b[?25hDownloading pypdf-6.1.1-py3-none-any.whl (323 kB)\n",
            "\u001b[2K   \u001b[90m━━━━━━━━━━━━━━━━━━━━━━━━━━━━━━━━━━━━━━━━\u001b[0m \u001b[32m323.5/323.5 kB\u001b[0m \u001b[31m18.3 MB/s\u001b[0m eta \u001b[36m0:00:00\u001b[0m\n",
            "\u001b[?25hDownloading olefile-0.47-py2.py3-none-any.whl (114 kB)\n",
            "\u001b[2K   \u001b[90m━━━━━━━━━━━━━━━━━━━━━━━━━━━━━━━━━━━━━━━━\u001b[0m \u001b[32m114.6/114.6 kB\u001b[0m \u001b[31m6.2 MB/s\u001b[0m eta \u001b[36m0:00:00\u001b[0m\n",
            "\u001b[?25hBuilding wheels for collected packages: langdetect\n",
            "  Building wheel for langdetect (setup.py) ... \u001b[?25l\u001b[?25hdone\n",
            "  Created wheel for langdetect: filename=langdetect-1.0.9-py3-none-any.whl size=993223 sha256=4a3e27e1ac00cdb884d1ed8bef79183e9151bc3c6b9f3a9c48169a64847c39d3\n",
            "  Stored in directory: /root/.cache/pip/wheels/c1/67/88/e844b5b022812e15a52e4eaa38a1e709e99f06f6639d7e3ba7\n",
            "Successfully built langdetect\n",
            "Installing collected packages: filetype, rapidfuzz, python-magic, python-iso639, pypdf, olefile, langdetect, emoji, backoff, python-oxmsg, unstructured-client, unstructured\n",
            "Successfully installed backoff-2.2.1 emoji-2.15.0 filetype-1.2.0 langdetect-1.0.9 olefile-0.47 pypdf-6.1.1 python-iso639-2025.2.18 python-magic-0.4.27 python-oxmsg-0.0.2 rapidfuzz-3.14.1 unstructured-0.18.15 unstructured-client-0.42.3\n"
          ]
        }
      ]
    },
    {
      "cell_type": "code",
      "source": [
        "import os\n",
        "os.environ['HUGGINGFACEHUB_API_TOKEN']=\"hf_sbBFsXDMaDtjyVKPN\" # Pass your API key here (trimmed for security)"
      ],
      "metadata": {
        "id": "dDvvopni3ITo"
      },
      "execution_count": 6,
      "outputs": []
    },
    {
      "cell_type": "code",
      "source": [
        "# importing necessary libraries here\n",
        "from langchain_huggingface import ChatHuggingFace, HuggingFaceEmbeddings, HuggingFaceEndpoint\n",
        "from langchain.text_splitter import RecursiveCharacterTextSplitter\n",
        "from langchain_community.document_loaders import UnstructuredURLLoader\n",
        "from langchain.prompts import PromptTemplate, ChatPromptTemplate\n",
        "from langchain_community.vectorstores import FAISS\n",
        "from langchain_core.output_parsers import StrOutputParser\n",
        "from langchain_core.runnables import RunnablePassthrough, RunnableParallel, RunnableLambda"
      ],
      "metadata": {
        "id": "OLbOLSSh0rlF"
      },
      "execution_count": 7,
      "outputs": []
    },
    {
      "cell_type": "markdown",
      "source": [
        "#### 1-> Load data"
      ],
      "metadata": {
        "id": "t5zmXPu6mxQP"
      }
    },
    {
      "cell_type": "code",
      "source": [
        "\n",
        "loader=UnstructuredURLLoader(urls=[\"https://www.moneycontrol.com/news/business/markets/amansa-holdings-acquires-nearly-1-stake-in-aether-industries-bnp-paribas-buys-0-97-stake-in-hero-moto-for-rs-1-035-crore-13588907.html\",\"https://www.moneycontrol.com/news/business/stocks/mrf-shares-fall-2-21-in-today-s-trading-alpha-article-13588131.html\",\n",
        "\"https://www.moneycontrol.com/news/business/stocks/schaeffler-india-shares-rise-2-93-in-today-s-trading-alpha-article-13588122.html\"])\n",
        "\n",
        "\n",
        "data=loader.load()"
      ],
      "metadata": {
        "id": "MoVpKJdU1jig"
      },
      "execution_count": 80,
      "outputs": []
    },
    {
      "cell_type": "code",
      "source": [
        "data"
      ],
      "metadata": {
        "colab": {
          "base_uri": "https://localhost:8080/"
        },
        "id": "9JbsznPxrfoA",
        "outputId": "678bf796-a4e3-41b4-c686-4cffad3104af"
      },
      "execution_count": 81,
      "outputs": [
        {
          "output_type": "execute_result",
          "data": {
            "text/plain": [
              "[Document(metadata={'source': 'https://www.moneycontrol.com/news/business/markets/amansa-holdings-acquires-nearly-1-stake-in-aether-industries-bnp-paribas-buys-0-97-stake-in-hero-moto-for-rs-1-035-crore-13588907.html'}, page_content=\"English\\n\\nHindi\\n\\nGujarati\\n\\nSpecials\\n\\nHello, Login\\n\\nHello, Login\\n\\nLog-inor Sign-Up\\n\\nMy Account\\n\\nMy Profile\\n\\nMy Portfolio\\n\\nMy Watchlist\\n\\nMy Alerts\\n\\nMy Messages\\n\\nPrice Alerts\\n\\nMy Profile\\n\\nMy PRO\\n\\nMy Portfolio\\n\\nMy Watchlist\\n\\nMy Alerts\\n\\nMy Messages\\n\\nPrice Alerts\\n\\nLogout\\n\\nLoans up to ₹50 LAKHS\\n\\nFixed Deposits\\n\\nCredit CardsLifetime Free\\n\\nCredit Score\\n\\nChat with Us\\n\\nDownload App\\n\\nFollow us on:\\n\\nNetwork 18\\n\\nGo Ad-Free\\n\\nMy Alerts\\n\\n>->MC_ENG_DESKTOP/MC_ENG_NEWS/MC_ENG_MARKETS_AS/MC_ENG_ROS_NWS_MKTS_AS_ATF_728\\n\\nMoneycontrol\\n\\nGo PRO NowPRO\\n\\nMoneycontrol PRO\\n\\nAdvertisement\\n\\nRemove Ad\\n\\nBusiness\\n\\nMarkets\\n\\nStocks\\n\\nEconomy\\n\\nCompanies\\n\\nTrends\\n\\nIPO\\n\\nOpinion\\n\\nEV Special\\n\\nHomeNewsBusinessMarketsAmansa Holdings acquires nearly 1% stake in Aether Industries, BNP Paribas buys 0.97% stake in Hero Moto for Rs 1,035 crore\\n\\nTrending Topics\\n\\nSensex TodayRITES SharesPolycab SharesDiamond Power Share Price\\n\\nAmansa Holdings acquires nearly 1% stake in Aether Industries, BNP Paribas buys 0.97% stake in Hero Moto for Rs 1,035 crore\\n\\nMotilal Oswal Mutual Fund bought 31.02 lakh shares of Bharat Forge at Rs 1,217.32 per share for Rs 377.7 crore, however, sold 7.37 lakh shares in DCX Systems at Rs 242.62 apiece for Rs 17.88 crore.\\n\\nMoneycontrol News\\n\\nSeptember 29, 2025 / 20:21 IST\\n\\nBulk Deals on September 29\\n\\nBulk Deals on September 29\\n\\nWatchlist\\n\\nPortfolio\\n\\nMessage\\n\\nSet Alert\\n\\nlive\\n\\nbselive\\n\\nnselive\\n\\nVolume\\n\\nTodays L/H\\n\\nMore\\n\\nSingapore-headquartered investment management firm Amansa Holdings has acquired nearly 1 percent equity stake in advanced intermediates and specialty chemicals maker Aether Industries, while Motilal Oswal Mutual Fund bought 0.6 percent shares in auto ancillary and defence company Bharat Forge via open market transactions on September 29.\\n\\nAether Industries shares rallied 2.2 percent to Rs 750.8 amid strong volumes, while Bharat Forge stock advanced 2.8 percent to Rs 1,214, climbing above the midline of Bollinger bands.\\n\\nStory continues below Advertisement\\n\\nRemove Ad\\n\\nAmansa Holdings bought 12.8 lakh shares (equivalent to 0.96 percent stake) in Aether Industries at Rs 735 per share for Rs 94.27 crore, however, Goldman Sachs FDS Goldman Sachs India EQ Portfolio sold 11.51 lakh shares (0.86 percent stake) at Rs 735.01 apiece, amounting to Rs 84.6 crore.\\n\\nMeanwhile, Motilal Oswal Mutual Fund bought 31.02 lakh shares of Bharat Forge at Rs 1,217.32 per share for Rs 377.7 crore, however, sold 7.37 lakh shares in DCX Systems at Rs 242.62 apiece for Rs 17.88 crore.\\n\\nDCX Systems shares plunged 7.7 percent on Monday, closing at Rs 237.3 and continuing downtrend for sixth consecutive session. The stock price fell below the lower line of Bollinger bands.\\n\\nRelated stories\\n\\nTrade Spotlight: How should you trade BSE, Bank of Baroda, Tech Mahindra, Axis Bank, GMDC, Usha Martin, and others on September 30?\\n\\nTrade Spotlight: How should you trade BSE, Bank of Baroda, Tech Mahindra, Axis Bank, GMDC, Usha Mart...\\n\\nTrade setup for September 30: Top 15 things to know before the opening bells\\n\\nTrade setup for September 30: Top 15 things to know before the opening bells\\n\\nFIIs net sold Rs 2,832 crore, DIIs net bought Rs 3,846 crore on September 29\\n\\nFIIs net sold Rs 2,832 crore, DIIs net bought Rs 3,846 crore on September 29\\n\\nCamlin Fine Sciences was also in focus, sinking 5 percent to Rs 200.08 and extending downtrend for sixth straight day. Akshat Greentech acquired 10 lakh shares of the company (half a percent) at Rs 200.08 per share, amounting to Rs 20 crore.\\n\\nSammaan Capital shares spiked 12 percent to Rs 154.27, signalling significant breakout. The stock formed long bullish candle on the daily charts with strong volumes. ICICI Prudential Mutual Fund bought 43.47 lakh shares (0.52 percent stake) in Sammaan at Rs 151.95 per share, valued at Rs 66.05 crore.\\n\\nThe action was also seen in Hero MotoCorp, the country's largest two-wheeler maker, declining 0.52 percent to Rs 5,300.5 amid consolidation. BNP Paribas Financial Markets acquired 19.52 lakh shares (0.97 percent stake) at Rs 5,302.91 per share, for Rs 1,035.16 crore.\\n\\nStory continues below Advertisement\\n\\nRemove Ad\\n\\nBNP Paribas Financial Markets also acquired 1.06 crore shares (1.36 percent stake) at Rs 723.6 per share in IndusInd Bank for Rs 771.12 crore, but sold 79.37 lakh shares (0.81 percent stake) in Max Healthcare Institute at Rs 1,111.66 per share, amounting to Rs 882.4 crore.\\n\\nAAA Technologies saw major exchange of shares, rising 2.06 percent to Rs 78.59. Promoter Ruchi Anjay Agarwal sold 4 lakh shares in the company at Rs 78.6 per share for Rs 3.14 crore, to Craft Emerging Market Fund PCC- Citadel Capital Fund.\\n\\nMeanwhile, Go Digit General Insurance acquired 21.75 lakh units in Anzen India Energy Yield Plus Trust at Rs 115 per unit for Rs 25.01 crore, however SEPL Energy sold 51.5 lakh unit at same price for Rs 59.2 crore.\\n\\nMoneycontrol News\\n\\nfirst published: Sep 29, 2025 08:21 pm\\n\\nDiscover the latest Business News, Sensex, and Nifty updates. Obtain Personal Finance insights, tax queries, and expert opinions on Moneycontrol or download the Moneycontrol App to stay updated!\\n\\nAdvertisement\\n\\nRemove Ad\\n\\nSubscribe to Tech Newsletters\\n\\nOn Saturdays\\n\\nFind the best of Al News in one place, specially curated for you every weekend.\\n\\nDaily-Weekdays\\n\\nStay on top of the latest tech trends and biggest startup news.\\n\\nSubscribe\\n\\nTrending news\\n\\nShe Was Thrown in Dustbin: Untold Story of Indian Orphan Who Became Australian Cricket Captain\\n\\nGoogle marks 27 years: Bengaluru office celebrates birthday, employee shares post\\n\\n‘I am deaf, I can’t listen and mute’: Delivery partner’s message to customer moves social media\\n\\nAll Spider-Man movies featuring Tom Holland, Tobey Maguire and Andrew Garfield to re-release in theatres: Details inside\\n\\n‘Ignorant of real life’: J.K. Rowling unloads blistering post on Emma Watson after actor’s olive branch\\n\\nMajor Khushboo Patani: Disha Patani's sister who overcame harassment, stalking and became an army officer\\n\\nCM SHRI School Result 2025 declared for classes 6, 7, 8 @ edudel.nic.in; direct link here\\n\\nDigital Detox Destinations With No Wi-Fi, Just Peace\\n\\nScientists discovered new Mouse Opossum species in Peru’s remote cloud forest\\n\\nNavratri 2025 Day 8 – Ashtami: Maa Mahagauri Puja Vidhi, Mantra, Rituals & Significance\\n\\nInstagram influencer shares QR code seeking donation to buy the new iPhone 17 Pro Max; video goes viral\\n\\nWorried about iPhone 17 Pro and iPhone 17’s scratchgate issue? Here’s what Apple has to say about it\\n\\nMalaika Arora shares 7 chinese movements to feel younger and lighter in just 2 minutes| Watch video\\n\\nCardiovascular surgeon shares 4 things to avoid after turning 40, includes avoiding toxic people\\n\\nStronger legs, no gym needed: 8 at-home exercises backed by experts\\n\\nAdvisory Alert:\\n\\nmoneycontrol\\n\\nFollow Us On:\\n\\nFacebook\\n\\ntwitter\\n\\ninstagram\\n\\nlinkedin\\n\\ntelegram\\n\\nyoutube\\n\\nStocks: A B C D E F G H I J K L M N O P Q R S T U V W X Y Z Others\\n\\nTrending Topics\\n\\nSensex Today TCS Layoffs Tata Capital IPO Gold Price Mohsin Naqvi Suryakumar Yadav PoK Protests Mumbai Rains Durga Ashtami Wishes Atlanta Electricals share price\\n\\nNews\\n\\nBusiness Markets Stocks India News City News Economy Mutual Funds Personal Finance IPO News Startups\\n\\nMarkets\\n\\nHome Currencies Commodities Pre-Market IPO Global Market Bonds\\n\\nPersonal Finance\\n\\nHome Loans up to 50 Lakhs Credit Cards Lifetime Free Finance TrackerNew Fixed Deposits Fixed Deposit Comparison Fixed Income\\n\\nMutual Funds\\n\\nHome MC 30 Top Ranked Funds ETFs Mutual Fund Screener\\n\\nTools\\n\\nIncome Tax Calculator EMI Calculator Retirement Planning Gratuity Calculator Petrol Price in India Diesel Price in India IFSC Code\\n\\nCommunity\\n\\nStock Markets\\n\\nNetwork 18 Sites\\n\\nNews18 Firstpost CNBC TV18 News18 Hindi Cricketnext Overdrive\\n\\nQuick Links\\n\\nAbout Us Contact Us Advisory Alert Advertise with Us SupportDisclaimer Privacy Policy Cookie Policy Terms & Conditions Financial Terms (Glossary) Sitemap Investors\\n\\nDownload MC Apps:\\n\\n\\n\\n\\n\\n\\n\\nCopyright © Network18 Media & Investments Limited. All rights reserved. Reproduction of news articles, photos, videos or any other content in whole or in part in any form or medium without express written permission of moneycontrol.com is prohibited.\\n\\nYou got 30 Day’s Trial of\\n\\nMoneycontrol Pro\\n\\nMoneycontrol Pro\\n\\nGrab it Now\\n\\nAd-Free Experience\\n\\nTop Articles from Financial Times\\n\\nTop Articles from Financial Times\\n\\nActionable Insights\\n\\nMC Research\\n\\nEconomic Calendar\\n\\n& Many More\\n\\n& Many More\\n\\nYou are already a Moneycontrol Pro user.\\n\\nSunil Matkar\"),\n",
              " Document(metadata={'source': 'https://www.moneycontrol.com/news/business/stocks/mrf-shares-fall-2-21-in-today-s-trading-alpha-article-13588131.html'}, page_content=\"English\\n\\nHindi\\n\\nGujarati\\n\\nSpecials\\n\\nHello, Login\\n\\nHello, Login\\n\\nLog-inor Sign-Up\\n\\nMy Account\\n\\nMy Profile\\n\\nMy Portfolio\\n\\nMy Watchlist\\n\\nMy Alerts\\n\\nMy Messages\\n\\nPrice Alerts\\n\\nMy Profile\\n\\nMy PRO\\n\\nMy Portfolio\\n\\nMy Watchlist\\n\\nMy Alerts\\n\\nMy Messages\\n\\nPrice Alerts\\n\\nLogout\\n\\nLoans up to ₹50 LAKHS\\n\\nFixed Deposits\\n\\nCredit CardsLifetime Free\\n\\nCredit Score\\n\\nChat with Us\\n\\nDownload App\\n\\nFollow us on:\\n\\nNetwork 18\\n\\nGo Ad-Free\\n\\nMy Alerts\\n\\n>->MC_ENG_DESKTOP/MC_ENG_NEWS/MC_ENG_STOCKS_AS/MC_ENG_ROS_NWS_STK_AS_ATF_728\\n\\nMoneycontrol\\n\\nGo PRO NowPRO\\n\\nMoneycontrol PRO\\n\\nAdvertisement\\n\\nRemove Ad\\n\\nBusiness\\n\\nMarkets\\n\\nStocks\\n\\nEconomy\\n\\nCompanies\\n\\nTrends\\n\\nIPO\\n\\nOpinion\\n\\nEV Special\\n\\nHomeNewsBusinessStocksMRF shares fall 2.21% in today's trading\\n\\nTrending Topics\\n\\nSensex LiveTata Capital IPOEpack Prefab Tech IPO AllotmentFabtech Technologies IPOGlottis IPO GMP\\n\\nMRF shares fall 2.21% in today's trading\\n\\nWith the stock's last traded price at Rs 145260.00, MRF has seen a decline of 2.21% in today's session.\\n\\nAlpha Desk\\n\\nSeptember 29, 2025 / 15:25 IST\\n\\n\\n\\nDisclaimer This is an AI-assisted live blog with updates from multiple sources Disclaimer\\n\\nSensex up 300 pts, Nifty above 24,750: Value buying among key factors behind market rise\\n\\nSensex up 300 pts, Nifty above 24,750: Value buying among key factors behind market rise\\n\\nWatchlist\\n\\nPortfolio\\n\\nMessage\\n\\nSet Alert\\n\\nlive\\n\\nbselive\\n\\nnselive\\n\\nVolume\\n\\nTodays L/H\\n\\nMore\\n\\nShares of MRF declined by 2.21% to Rs 145,260.00 in Monday's session. The stock is a constituent of the Nifty Midcap 150 index.\\n\\nFinancial Performance:\\n\\nStory continues below Advertisement\\n\\nRemove Ad\\n\\nMRF's financial performance reveals the following trends based on consolidated figures:\\n\\nQuarterly Results:\\n\\nFor the quarter-ending June 2025, MRF reported a revenue of Rs 7,675.69 Crore and a net profit of Rs 500.47 Crore. In comparison, the quarter-ending June 2024 showed a revenue of Rs 7,196.45 Crore and a net profit of Rs 571.02 Crore.\\n\\nParticulars Jun 2024 Sep 2024 Dec 2024 Mar 2025 Jun 2025 Revenue Rs 7,196.45 Crore Rs 6,881.09 Crore Rs 7,000.82 Crore Rs 7,074.82 Crore Rs 7,675.69 Crore Net Profit Rs 571.02 Crore Rs 470.70 Crore Rs 315.46 Crore Rs 512.11 Crore Rs 500.47 Crore EPS Rs 1,346.38 Rs 1,109.85 Rs 743.80 Rs 1,207.48 Rs 1,180.04\\n\\nAnnual Results:\\n\\nThe company's annual revenue for the year-ending March 2025 stood at Rs 28,153.18 Crore, while the net profit was Rs 1,869.29 Crore. For the year-ending March 2024, the revenue was Rs 25,169.21 Crore and net profit was Rs 2,081.23 Crore.\\n\\nParticulars 2021 2022 2023 2024 2025 Revenue Rs 16,163.19 Crore Rs 19,316.72 Crore Rs 23,008.50 Crore Rs 25,169.21 Crore Rs 28,153.18 Crore Net Profit Rs 1,277.07 Crore Rs 669.24 Crore Rs 768.96 Crore Rs 2,081.23 Crore Rs 1,869.29 Crore EPS Rs 3,011.14 Rs 1,577.97 Rs 1,813.10 Rs 4,907.24 Rs 4,407.51 BVPS Rs 31,636.34 Rs 33,094.10 Rs 34,688.25 Rs 39,394.25 Rs 43,604.86 ROE 9.52 4.76 5.22 12.46 10.11 Debt to Equity 0.13 0.20 0.17 0.12 0.16\\n\\nThe company’s revenue increased by 11.86 percent in 2025 compared to 2024. The net profits decreased by 10.18 percent in 2025 compared to the previous year.\\n\\nParticulars Mar 2025 Mar 2024 Mar 2023 Mar 2022 Mar 2021 Sales Rs 28,153 Crore Rs 25,169 Crore Rs 23,008 Crore Rs 19,316 Crore Rs 16,163 Crore Other Income Rs 408 Crore Rs 316 Crore Rs 252 Crore Rs 316 Crore Rs 209 Crore Total Income Rs 28,561 Crore Rs 25,486 Crore Rs 23,261 Crore Rs 19,633 Crore Rs 16,373 Crore Total Expenditure Rs 25,722 Crore Rs 22,345 Crore Rs 21,872 Crore Rs 18,471 Crore Rs 14,361 Crore EBIT Rs 2,839 Crore Rs 3,140 Crore Rs 1,388 Crore Rs 1,161 Crore Rs 2,011 Crore Interest Rs 360 Crore Rs 353 Crore Rs 319 Crore Rs 253 Crore Rs 274 Crore Tax Rs 609 Crore Rs 706 Crore Rs 300 Crore Rs 238 Crore Rs 459 Crore Net Profit Rs 1,869 Crore Rs 2,081 Crore Rs 768 Crore Rs 669 Crore Rs 1,277 Crore\\n\\nKey Ratios:\\n\\nAs of March 2025, MRF has a debt-to-equity ratio of 0.16, and an interest coverage ratio of 12.48.\\n\\nCorporate Actions:\\n\\nMRF announced a final dividend of Rs 229 per share (2290%) on May 7, 2025, with an effective date of July 18, 2025. Prior to this, an interim dividend of Rs 3 per share was announced on January 30, 2025.\\n\\nThe company had also announced bonus issues in the past, with ratios of 1:2 on April 2, 1975, and 3:10 on April 2, 1970.\\n\\nStory continues below Advertisement\\n\\nRemove Ad\\n\\nAs of September 26, 2025, sentiment analysis by Moneycontrol was neutral.\\n\\nWith the stock's last traded price at Rs 145260.00, MRF has seen a decline of 2.21% in today's session.\\n\\nAlpha Desk\\n\\nfirst published: Sep 29, 2025 03:25 pm\\n\\nDiscover the latest Business News, Sensex, and Nifty updates. Obtain Personal Finance insights, tax queries, and expert opinions on Moneycontrol or download the Moneycontrol App to stay updated!\\n\\nAdvertisement\\n\\nRemove Ad\\n\\nSubscribe to Tech Newsletters\\n\\nOn Saturdays\\n\\nFind the best of Al News in one place, specially curated for you every weekend.\\n\\nDaily-Weekdays\\n\\nStay on top of the latest tech trends and biggest startup news.\\n\\nSubscribe\\n\\nTrending news\\n\\nShe Was Thrown in Dustbin: Untold Story of Indian Orphan Who Became Australian Cricket Captain\\n\\nGoogle marks 27 years: Bengaluru office celebrates birthday, employee shares post\\n\\n‘I am deaf, I can’t listen and mute’: Delivery partner’s message to customer moves social media\\n\\nAll Spider-Man movies featuring Tom Holland, Tobey Maguire and Andrew Garfield to re-release in theatres: Details inside\\n\\n‘Ignorant of real life’: J.K. Rowling unloads blistering post on Emma Watson after actor’s olive branch\\n\\nMajor Khushboo Patani: Disha Patani's sister who overcame harassment, stalking and became an army officer\\n\\nCM SHRI School Result 2025 declared for classes 6, 7, 8 @ edudel.nic.in; direct link here\\n\\nDigital Detox Destinations With No Wi-Fi, Just Peace\\n\\nScientists discovered new Mouse Opossum species in Peru’s remote cloud forest\\n\\nNavratri 2025 Day 8 – Ashtami: Maa Mahagauri Puja Vidhi, Mantra, Rituals & Significance\\n\\nInstagram influencer shares QR code seeking donation to buy the new iPhone 17 Pro Max; video goes viral\\n\\nWorried about iPhone 17 Pro and iPhone 17’s scratchgate issue? Here’s what Apple has to say about it\\n\\nMalaika Arora shares 7 chinese movements to feel younger and lighter in just 2 minutes| Watch video\\n\\nCardiovascular surgeon shares 4 things to avoid after turning 40, includes avoiding toxic people\\n\\nStronger legs, no gym needed: 8 at-home exercises backed by experts\\n\\nAdvisory Alert:\\n\\nmoneycontrol\\n\\nFollow Us On:\\n\\nFacebook\\n\\ntwitter\\n\\ninstagram\\n\\nlinkedin\\n\\ntelegram\\n\\nyoutube\\n\\nStocks: A B C D E F G H I J K L M N O P Q R S T U V W X Y Z Others\\n\\nTrending Topics\\n\\nSensex Today TCS Layoffs Tata Capital IPO Gold Price Mohsin Naqvi Suryakumar Yadav PoK Protests Mumbai Rains Durga Ashtami Wishes Atlanta Electricals share price\\n\\nNews\\n\\nBusiness Markets Stocks India News City News Economy Mutual Funds Personal Finance IPO News Startups\\n\\nMarkets\\n\\nHome Currencies Commodities Pre-Market IPO Global Market Bonds\\n\\nPersonal Finance\\n\\nHome Loans up to 50 Lakhs Credit Cards Lifetime Free Finance TrackerNew Fixed Deposits Fixed Deposit Comparison Fixed Income\\n\\nMutual Funds\\n\\nHome MC 30 Top Ranked Funds ETFs Mutual Fund Screener\\n\\nTools\\n\\nIncome Tax Calculator EMI Calculator Retirement Planning Gratuity Calculator Petrol Price in India Diesel Price in India IFSC Code\\n\\nCommunity\\n\\nStock Markets\\n\\nNetwork 18 Sites\\n\\nNews18 Firstpost CNBC TV18 News18 Hindi Cricketnext Overdrive\\n\\nQuick Links\\n\\nAbout Us Contact Us Advisory Alert Advertise with Us SupportDisclaimer Privacy Policy Cookie Policy Terms & Conditions Financial Terms (Glossary) Sitemap Investors\\n\\nDownload MC Apps:\\n\\n\\n\\n\\n\\n\\n\\nCopyright © Network18 Media & Investments Limited. All rights reserved. Reproduction of news articles, photos, videos or any other content in whole or in part in any form or medium without express written permission of moneycontrol.com is prohibited.\\n\\nYou got 30 Day’s Trial of\\n\\nMoneycontrol Pro\\n\\nMoneycontrol Pro\\n\\nGrab it Now\\n\\nAd-Free Experience\\n\\nTop Articles from Financial Times\\n\\nTop Articles from Financial Times\\n\\nActionable Insights\\n\\nMC Research\\n\\nEconomic Calendar\\n\\n& Many More\\n\\n& Many More\\n\\nYou are already a Moneycontrol Pro user.\\n\\nAlpha Desk\"),\n",
              " Document(metadata={'source': 'https://www.moneycontrol.com/news/business/stocks/schaeffler-india-shares-rise-2-93-in-today-s-trading-alpha-article-13588122.html'}, page_content=\"English\\n\\nHindi\\n\\nGujarati\\n\\nSpecials\\n\\nHello, Login\\n\\nHello, Login\\n\\nLog-inor Sign-Up\\n\\nMy Account\\n\\nMy Profile\\n\\nMy Portfolio\\n\\nMy Watchlist\\n\\nMy Alerts\\n\\nMy Messages\\n\\nPrice Alerts\\n\\nMy Profile\\n\\nMy PRO\\n\\nMy Portfolio\\n\\nMy Watchlist\\n\\nMy Alerts\\n\\nMy Messages\\n\\nPrice Alerts\\n\\nLogout\\n\\nLoans up to ₹50 LAKHS\\n\\nFixed Deposits\\n\\nCredit CardsLifetime Free\\n\\nCredit Score\\n\\nChat with Us\\n\\nDownload App\\n\\nFollow us on:\\n\\nNetwork 18\\n\\nGo Ad-Free\\n\\nMy Alerts\\n\\n>->MC_ENG_DESKTOP/MC_ENG_NEWS/MC_ENG_STOCKS_AS/MC_ENG_ROS_NWS_STK_AS_ATF_728\\n\\nMoneycontrol\\n\\nGo PRO NowPRO\\n\\nMoneycontrol PRO\\n\\nAdvertisement\\n\\nRemove Ad\\n\\nBusiness\\n\\nMarkets\\n\\nStocks\\n\\nEconomy\\n\\nCompanies\\n\\nTrends\\n\\nIPO\\n\\nOpinion\\n\\nEV Special\\n\\nHomeNewsBusinessStocksSchaeffler India shares rise 2.93% in today's trading\\n\\nTrending Topics\\n\\nSensex LiveTata Capital IPOEpack Prefab Tech IPO AllotmentFabtech Technologies IPOGlottis IPO GMP\\n\\nSchaeffler India shares rise 2.93% in today's trading\\n\\nWith the stock's last traded price at Rs 4,108.80, Schaeffler India shows a positive momentum in today's session.\\n\\nAlpha Desk\\n\\nSeptember 29, 2025 / 15:26 IST\\n\\n\\n\\nDisclaimer This is an AI-assisted live blog with updates from multiple sources Disclaimer\\n\\nFIIs net sell Indian equities worth Rs 5688 crore while DIIs net buy Rs 5,843 crore on September 26\\n\\nStock market today\\n\\nWatchlist\\n\\nPortfolio\\n\\nMessage\\n\\nSet Alert\\n\\nlive\\n\\nbselive\\n\\nnselive\\n\\nVolume\\n\\nTodays L/H\\n\\nMore\\n\\nShares of Schaeffler India were trading at Rs 4,108.80, up 2.93% in Monday's session. The stock is a constituent of the Nifty Midcap 150 index.\\n\\nOn September 23, 2025, the company provided an update on social media regarding a special window for re-lodgment of transfer requests for physical shares.\\n\\nSchaeffler India Financial Performance\\n\\nHere's an overview of Schaeffler India's financial performance based on consolidated figures:\\n\\nIncome Statement (Quarterly)\\n\\nHere's a summary of the key figures from the income statement on a quarterly basis:\\n\\nJun 2025 Mar 2025 Dec 2024 Sep 2024 Jun 2024 Sales Rs 2,352 Crore Rs 2,174 Crore Rs 2,136 Crore Rs 2,116 Crore Rs 2,106 Crore Other Income Rs 43 Crore Rs 33 Crore Rs 34 Crore Rs 27 Crore Rs 24 Crore Total Income Rs 2,395 Crore Rs 2,207 Crore Rs 2,170 Crore Rs 2,143 Crore Rs 2,131 Crore Total Expenditure Rs 2,003 Crore Rs 1,864 Crore Rs 1,843 Crore Rs 1,820 Crore Rs 1,798 Crore EBIT Rs 392 Crore Rs 343 Crore Rs 327 Crore Rs 323 Crore Rs 333 Crore Interest Rs 1 Crore Rs 1 Crore Rs 0 Crore Rs 1 Crore Rs 1 Crore Tax Rs 104 Crore Rs 90 Crore Rs 88 Crore Rs 85 Crore Rs 86 Crore Net Profit Rs 287 Crore Rs 251 Crore Rs 237 Crore Rs 236 Crore Rs 245 Crore\\n\\nThe company's revenue has generally increased over the quarters, with sales rising from Rs 2,106 Crore in June 2024 to Rs 2,352 Crore in June 2025. Net profit also shows a growth trend, increasing from Rs 245 Crore to Rs 287 Crore during the same period.\\n\\nIncome Statement (Yearly)\\n\\nHere's a summary of the key figures from the income statement on a yearly basis:\\n\\nDec 2024 Dec 2023 Dec 2022 Sales Rs 8,232 Crore Rs 7,250 Crore Rs 6,867 Crore Other Income Rs 118 Crore Rs 124 Crore Rs 77 Crore Total Income Rs 8,350 Crore Rs 7,375 Crore Rs 6,945 Crore Total Expenditure Rs 7,068 Crore Rs 6,157 Crore Rs 5,764 Crore EBIT Rs 1,282 Crore Rs 1,218 Crore Rs 1,180 Crore Interest Rs 4 Crore Rs 4 Crore Rs 3 Crore Tax Rs 338 Crore Rs 314 Crore Rs 297 Crore Net Profit Rs 938 Crore Rs 899 Crore Rs 879 Crore\\n\\nThe annual figures show a consistent increase in sales, from Rs 6,867 Crore in December 2022 to Rs 8,232 Crore in December 2024. Net profit also increased, from Rs 879 Crore to Rs 938 Crore over the same period.\\n\\nCash Flow\\n\\nCash flow details are as follows:\\n\\nDec 2024 Dec 2023 Dec 2022 Operating Activities Rs 839 Crore Rs 884 Crore Rs 750 Crore Investing Activities Rs -24 Crore Rs -595 Crore Rs -534 Crore Financing Activities Rs -421 Crore Rs -386 Crore Rs -256 Crore Others Rs 0 Crore Rs 0 Crore Rs 0 Crore Net Cash Flow Rs 394 Crore Rs -96 Crore Rs -40 Crore\\n\\nBalance Sheet\\n\\nThe balance sheet details are as follows:\\n\\nDec 2024 Dec 2023 Dec 2022 Share Capital Rs 31 Crore Rs 31 Crore Rs 31 Crore Reserves & Surplus Rs 5,303 Crore Rs 4,774 Crore Rs 4,254 Crore Current Liabilities Rs 1,488 Crore Rs 1,405 Crore Rs 1,377 Crore Other Liabilities Rs 60 Crore Rs 56 Crore Rs 62 Crore Total Liabilities Rs 6,882 Crore Rs 6,266 Crore Rs 5,726 Crore Fixed Assets Rs 2,336 Crore Rs 1,849 Crore Rs 1,372 Crore Current Assets Rs 4,253 Crore Rs 4,106 Crore Rs 3,988 Crore Other Assets Rs 292 Crore Rs 310 Crore Rs 366 Crore Total Assets Rs 6,882 Crore Rs 6,266 Crore Rs 5,726 Crore Contingent Liabilities Rs 390 Crore Rs 574 Crore Rs 493 Crore\\n\\nKey Financial Ratios\\n\\nKey financial ratios for Schaeffler India:\\n\\nDec 2024 Dec 2023 Dec 2022 Basic EPS (Rs.) 60.10 57.50 56.30 Diluted EPS (Rs.) 60.10 57.50 56.30 Book Value /Share (Rs.) 341.29 307.44 274.21 Dividend/Share (Rs.) 28.00 26.00 24.00 Face Value 2 2 2 Gross Profit Margin (%) 18.99 19.93 19.97 Operating Margin (%) 15.57 16.86 16.97 Net Profit Margin (%) 11.40 12.39 12.80 Return on Networth / Equity (%) 17.60 18.70 20.51 ROCE (%) 23.76 25.15 26.80 Return On Assets (%) 13.64 14.34 15.35 Current Ratio (X) 2.86 2.92 2.89 Quick Ratio (X) 1.87 1.99 1.99 Debt to Equity (x) 0.00 0.00 0.00 Interest Coverage Ratios (X) 358.64 338.58 386.50 Asset Turnover Ratio (%) 1.25 1.21 0.00 Inventory Turnover Ratio (X) 2.36 2.41 0.00 3 Yr CAGR Sales (%) 8,973.25 8,415.23 8,186.99 3 Yr CAGR Net Profit (%) 2,964.08 2,898.37 2,865.15 P/E (x) 0.00 0.00 0.00 P/B (x) 9.98 10.42 10.01 EV/EBITDA (x) 33.18 33.52 30.13 P/S (x) 6.47 6.90 6.25\\n\\nSchaeffler India's financial performance reflects consistent growth in revenue and profitability. The company’s revenue increased by 19.53 percent in 2024 compared to 2023. The net profit also increased by 4.43 percent.\\n\\nSchaeffler India has announced several dividends. The dividend declared on February 27, 2025, was Rs 28 per share.\\n\\nStory continues below Advertisement\\n\\nRemove Ad\\n\\nThe company had a bonus issue on August 11, 1995, with a bonus ratio of 1:2.\\n\\nThe company also had a stock split on October 28, 2021, where the face value changed from Rs 10 to Rs 2.\\n\\nWith the stock's last traded price at Rs 4,108.80, Schaeffler India shows a positive momentum in today's session.\\n\\nAlpha Desk\\n\\nfirst published: Sep 29, 2025 03:26 pm\\n\\nDiscover the latest Business News, Sensex, and Nifty updates. Obtain Personal Finance insights, tax queries, and expert opinions on Moneycontrol or download the Moneycontrol App to stay updated!\\n\\nAdvertisement\\n\\nRemove Ad\\n\\nSubscribe to Tech Newsletters\\n\\nOn Saturdays\\n\\nFind the best of Al News in one place, specially curated for you every weekend.\\n\\nDaily-Weekdays\\n\\nStay on top of the latest tech trends and biggest startup news.\\n\\nSubscribe\\n\\nTrending news\\n\\nShe Was Thrown in Dustbin: Untold Story of Indian Orphan Who Became Australian Cricket Captain\\n\\nGoogle marks 27 years: Bengaluru office celebrates birthday, employee shares post\\n\\n‘I am deaf, I can’t listen and mute’: Delivery partner’s message to customer moves social media\\n\\nAll Spider-Man movies featuring Tom Holland, Tobey Maguire and Andrew Garfield to re-release in theatres: Details inside\\n\\n‘Ignorant of real life’: J.K. Rowling unloads blistering post on Emma Watson after actor’s olive branch\\n\\nMajor Khushboo Patani: Disha Patani's sister who overcame harassment, stalking and became an army officer\\n\\nCM SHRI School Result 2025 declared for classes 6, 7, 8 @ edudel.nic.in; direct link here\\n\\nDigital Detox Destinations With No Wi-Fi, Just Peace\\n\\nScientists discovered new Mouse Opossum species in Peru’s remote cloud forest\\n\\nNavratri 2025 Day 8 – Ashtami: Maa Mahagauri Puja Vidhi, Mantra, Rituals & Significance\\n\\nInstagram influencer shares QR code seeking donation to buy the new iPhone 17 Pro Max; video goes viral\\n\\nWorried about iPhone 17 Pro and iPhone 17’s scratchgate issue? Here’s what Apple has to say about it\\n\\nMalaika Arora shares 7 chinese movements to feel younger and lighter in just 2 minutes| Watch video\\n\\nCardiovascular surgeon shares 4 things to avoid after turning 40, includes avoiding toxic people\\n\\nStronger legs, no gym needed: 8 at-home exercises backed by experts\\n\\nAdvisory Alert:\\n\\nmoneycontrol\\n\\nFollow Us On:\\n\\nFacebook\\n\\ntwitter\\n\\ninstagram\\n\\nlinkedin\\n\\ntelegram\\n\\nyoutube\\n\\nStocks: A B C D E F G H I J K L M N O P Q R S T U V W X Y Z Others\\n\\nTrending Topics\\n\\nSensex Today TCS Layoffs Tata Capital IPO Gold Price Mohsin Naqvi Suryakumar Yadav PoK Protests Mumbai Rains Durga Ashtami Wishes Atlanta Electricals share price\\n\\nNews\\n\\nBusiness Markets Stocks India News City News Economy Mutual Funds Personal Finance IPO News Startups\\n\\nMarkets\\n\\nHome Currencies Commodities Pre-Market IPO Global Market Bonds\\n\\nPersonal Finance\\n\\nHome Loans up to 50 Lakhs Credit Cards Lifetime Free Finance TrackerNew Fixed Deposits Fixed Deposit Comparison Fixed Income\\n\\nMutual Funds\\n\\nHome MC 30 Top Ranked Funds ETFs Mutual Fund Screener\\n\\nTools\\n\\nIncome Tax Calculator EMI Calculator Retirement Planning Gratuity Calculator Petrol Price in India Diesel Price in India IFSC Code\\n\\nCommunity\\n\\nStock Markets\\n\\nNetwork 18 Sites\\n\\nNews18 Firstpost CNBC TV18 News18 Hindi Cricketnext Overdrive\\n\\nQuick Links\\n\\nAbout Us Contact Us Advisory Alert Advertise with Us SupportDisclaimer Privacy Policy Cookie Policy Terms & Conditions Financial Terms (Glossary) Sitemap Investors\\n\\nDownload MC Apps:\\n\\n\\n\\n\\n\\n\\n\\nCopyright © Network18 Media & Investments Limited. All rights reserved. Reproduction of news articles, photos, videos or any other content in whole or in part in any form or medium without express written permission of moneycontrol.com is prohibited.\\n\\nYou got 30 Day’s Trial of\\n\\nMoneycontrol Pro\\n\\nMoneycontrol Pro\\n\\nGrab it Now\\n\\nAd-Free Experience\\n\\nTop Articles from Financial Times\\n\\nTop Articles from Financial Times\\n\\nActionable Insights\\n\\nMC Research\\n\\nEconomic Calendar\\n\\n& Many More\\n\\n& Many More\\n\\nYou are already a Moneycontrol Pro user.\\n\\nAlpha Desk\")]"
            ]
          },
          "metadata": {},
          "execution_count": 81
        }
      ]
    },
    {
      "cell_type": "code",
      "source": [
        "len(data)"
      ],
      "metadata": {
        "colab": {
          "base_uri": "https://localhost:8080/"
        },
        "id": "dW_eLQVE2m49",
        "outputId": "e661ba02-a118-4c6b-de02-918794b01ed4"
      },
      "execution_count": 82,
      "outputs": [
        {
          "output_type": "execute_result",
          "data": {
            "text/plain": [
              "3"
            ]
          },
          "metadata": {},
          "execution_count": 82
        }
      ]
    },
    {
      "cell_type": "markdown",
      "source": [
        "#### 2-> Split data to create chunks"
      ],
      "metadata": {
        "id": "uyG6T_kNm2DQ"
      }
    },
    {
      "cell_type": "code",
      "source": [
        "text_splitter=RecursiveCharacterTextSplitter(\n",
        "    chunk_size=1000,chunk_overlap=200)\n",
        "\n",
        "chunks=text_splitter.split_documents(data)"
      ],
      "metadata": {
        "id": "hdleK0lV29so"
      },
      "execution_count": 99,
      "outputs": []
    },
    {
      "cell_type": "code",
      "source": [
        "len(chunks)"
      ],
      "metadata": {
        "colab": {
          "base_uri": "https://localhost:8080/"
        },
        "id": "7tpob7ah37rh",
        "outputId": "3615d551-ec4c-4c4f-b733-4b3cda4aa4cb"
      },
      "execution_count": 101,
      "outputs": [
        {
          "output_type": "execute_result",
          "data": {
            "text/plain": [
              "33"
            ]
          },
          "metadata": {},
          "execution_count": 101
        }
      ]
    },
    {
      "cell_type": "code",
      "source": [
        "chunks[1]"
      ],
      "metadata": {
        "colab": {
          "base_uri": "https://localhost:8080/"
        },
        "id": "kBPH0lZ23_Si",
        "outputId": "22dbf22e-9746-4b25-8103-1a2d044d3dc0"
      },
      "execution_count": 102,
      "outputs": [
        {
          "output_type": "execute_result",
          "data": {
            "text/plain": [
              "Document(metadata={'source': 'https://www.moneycontrol.com/news/business/markets/amansa-holdings-acquires-nearly-1-stake-in-aether-industries-bnp-paribas-buys-0-97-stake-in-hero-moto-for-rs-1-035-crore-13588907.html'}, page_content='Trending Topics\\n\\nSensex TodayRITES SharesPolycab SharesDiamond Power Share Price\\n\\nAmansa Holdings acquires nearly 1% stake in Aether Industries, BNP Paribas buys 0.97% stake in Hero Moto for Rs 1,035 crore\\n\\nMotilal Oswal Mutual Fund bought 31.02 lakh shares of Bharat Forge at Rs 1,217.32 per share for Rs 377.7 crore, however, sold 7.37 lakh shares in DCX Systems at Rs 242.62 apiece for Rs 17.88 crore.\\n\\nMoneycontrol News\\n\\nSeptember 29, 2025 / 20:21 IST\\n\\nBulk Deals on September 29\\n\\nBulk Deals on September 29\\n\\nWatchlist\\n\\nPortfolio\\n\\nMessage\\n\\nSet Alert\\n\\nlive\\n\\nbselive\\n\\nnselive\\n\\nVolume\\n\\nTodays L/H\\n\\nMore\\n\\nSingapore-headquartered investment management firm Amansa Holdings has acquired nearly 1 percent equity stake in advanced intermediates and specialty chemicals maker Aether Industries, while Motilal Oswal Mutual Fund bought 0.6 percent shares in auto ancillary and defence company Bharat Forge via open market transactions on September 29.')"
            ]
          },
          "metadata": {},
          "execution_count": 102
        }
      ]
    },
    {
      "cell_type": "markdown",
      "source": [
        "#### 3-> Create embeddings for these chunks and save them to FAISS index"
      ],
      "metadata": {
        "id": "9cQFxrjSnD0l"
      }
    },
    {
      "cell_type": "code",
      "source": [
        "embed_model=HuggingFaceEmbeddings(model_name=\"sentence-transformers/all-MiniLM-L6-v2\")"
      ],
      "metadata": {
        "id": "ukMNRdQN4TM0"
      },
      "execution_count": 103,
      "outputs": []
    },
    {
      "cell_type": "code",
      "source": [
        "vector_store=FAISS.from_documents(chunks,embed_model)"
      ],
      "metadata": {
        "id": "lSohGvpN5_8W"
      },
      "execution_count": 104,
      "outputs": []
    },
    {
      "cell_type": "code",
      "source": [
        "# storing vector_store create in local\n",
        "import pickle\n",
        "file_path=\"vector_store.pkl\"\n",
        "with open(file_path,\"wb\") as f:\n",
        "    pickle.dump(vector_store,f)"
      ],
      "metadata": {
        "id": "lhIzY5sa6VSv"
      },
      "execution_count": 105,
      "outputs": []
    },
    {
      "cell_type": "code",
      "source": [
        "if os.path.exists(file_path):\n",
        "    with open(file_path,\"rb\") as f:\n",
        "        vector_store=pickle.load(f)"
      ],
      "metadata": {
        "id": "ei0J2rKf-hJI"
      },
      "execution_count": 106,
      "outputs": []
    },
    {
      "cell_type": "code",
      "source": [
        "## retriever for similarity search\n",
        "retriever=vector_store.as_retriever(\n",
        "    search_type=\"similarity\",search_kwargs={\"k\":3}\n",
        ")\n"
      ],
      "metadata": {
        "id": "o80SORwt-rqX"
      },
      "execution_count": 107,
      "outputs": []
    },
    {
      "cell_type": "code",
      "source": [
        "retriever.invoke('Which company acquired nearly 1 percent equity stake in Aether Industries, and at what price per share?')  # lets see the retrieved docs"
      ],
      "metadata": {
        "colab": {
          "base_uri": "https://localhost:8080/"
        },
        "id": "Q4gFLHj2nHvO",
        "outputId": "d8f5ff55-e35d-4862-9940-7003cdaeffa3"
      },
      "execution_count": 108,
      "outputs": [
        {
          "output_type": "execute_result",
          "data": {
            "text/plain": [
              "[Document(id='bf6137e8-aa46-472b-b85d-80489419fffa', metadata={'source': 'https://www.moneycontrol.com/news/business/markets/amansa-holdings-acquires-nearly-1-stake-in-aether-industries-bnp-paribas-buys-0-97-stake-in-hero-moto-for-rs-1-035-crore-13588907.html'}, page_content='Aether Industries shares rallied 2.2 percent to Rs 750.8 amid strong volumes, while Bharat Forge stock advanced 2.8 percent to Rs 1,214, climbing above the midline of Bollinger bands.\\n\\nStory continues below Advertisement\\n\\nRemove Ad\\n\\nAmansa Holdings bought 12.8 lakh shares (equivalent to 0.96 percent stake) in Aether Industries at Rs 735 per share for Rs 94.27 crore, however, Goldman Sachs FDS Goldman Sachs India EQ Portfolio sold 11.51 lakh shares (0.86 percent stake) at Rs 735.01 apiece, amounting to Rs 84.6 crore.\\n\\nMeanwhile, Motilal Oswal Mutual Fund bought 31.02 lakh shares of Bharat Forge at Rs 1,217.32 per share for Rs 377.7 crore, however, sold 7.37 lakh shares in DCX Systems at Rs 242.62 apiece for Rs 17.88 crore.\\n\\nDCX Systems shares plunged 7.7 percent on Monday, closing at Rs 237.3 and continuing downtrend for sixth consecutive session. The stock price fell below the lower line of Bollinger bands.\\n\\nRelated stories'),\n",
              " Document(id='1a332ba5-0d27-4988-a80f-0fbd7e666651', metadata={'source': 'https://www.moneycontrol.com/news/business/markets/amansa-holdings-acquires-nearly-1-stake-in-aether-industries-bnp-paribas-buys-0-97-stake-in-hero-moto-for-rs-1-035-crore-13588907.html'}, page_content='Trending Topics\\n\\nSensex TodayRITES SharesPolycab SharesDiamond Power Share Price\\n\\nAmansa Holdings acquires nearly 1% stake in Aether Industries, BNP Paribas buys 0.97% stake in Hero Moto for Rs 1,035 crore\\n\\nMotilal Oswal Mutual Fund bought 31.02 lakh shares of Bharat Forge at Rs 1,217.32 per share for Rs 377.7 crore, however, sold 7.37 lakh shares in DCX Systems at Rs 242.62 apiece for Rs 17.88 crore.\\n\\nMoneycontrol News\\n\\nSeptember 29, 2025 / 20:21 IST\\n\\nBulk Deals on September 29\\n\\nBulk Deals on September 29\\n\\nWatchlist\\n\\nPortfolio\\n\\nMessage\\n\\nSet Alert\\n\\nlive\\n\\nbselive\\n\\nnselive\\n\\nVolume\\n\\nTodays L/H\\n\\nMore\\n\\nSingapore-headquartered investment management firm Amansa Holdings has acquired nearly 1 percent equity stake in advanced intermediates and specialty chemicals maker Aether Industries, while Motilal Oswal Mutual Fund bought 0.6 percent shares in auto ancillary and defence company Bharat Forge via open market transactions on September 29.'),\n",
              " Document(id='305b9d3e-f7a9-4054-85fc-50c5efe28aff', metadata={'source': 'https://www.moneycontrol.com/news/business/markets/amansa-holdings-acquires-nearly-1-stake-in-aether-industries-bnp-paribas-buys-0-97-stake-in-hero-moto-for-rs-1-035-crore-13588907.html'}, page_content=\"Sammaan Capital shares spiked 12 percent to Rs 154.27, signalling significant breakout. The stock formed long bullish candle on the daily charts with strong volumes. ICICI Prudential Mutual Fund bought 43.47 lakh shares (0.52 percent stake) in Sammaan at Rs 151.95 per share, valued at Rs 66.05 crore.\\n\\nThe action was also seen in Hero MotoCorp, the country's largest two-wheeler maker, declining 0.52 percent to Rs 5,300.5 amid consolidation. BNP Paribas Financial Markets acquired 19.52 lakh shares (0.97 percent stake) at Rs 5,302.91 per share, for Rs 1,035.16 crore.\\n\\nStory continues below Advertisement\\n\\nRemove Ad\\n\\nBNP Paribas Financial Markets also acquired 1.06 crore shares (1.36 percent stake) at Rs 723.6 per share in IndusInd Bank for Rs 771.12 crore, but sold 79.37 lakh shares (0.81 percent stake) in Max Healthcare Institute at Rs 1,111.66 per share, amounting to Rs 882.4 crore.\")]"
            ]
          },
          "metadata": {},
          "execution_count": 108
        }
      ]
    },
    {
      "cell_type": "markdown",
      "source": [
        "#### 4-> Construct the Chain and Generate Final Answer\n",
        "\n"
      ],
      "metadata": {
        "id": "TY3wEo_Kn7OU"
      }
    },
    {
      "cell_type": "code",
      "source": [
        "## setting the model\n",
        "llm=HuggingFaceEndpoint(repo_id=\"meta-llama/Llama-3.1-8B-Instruct\",task=\"text-generation\")\n",
        "model=ChatHuggingFace(llm=llm)"
      ],
      "metadata": {
        "id": "_IumwbkCB-cb"
      },
      "execution_count": 109,
      "outputs": []
    },
    {
      "cell_type": "code",
      "source": [
        "# dynamic prompt\n",
        "prompt= ChatPromptTemplate([\n",
        "    ('system',\"\"\"You are a research AI assistant. Answer the user’s question strictly based on the provided context.\n",
        "Include all relevant details from the context, such as numbers, dates, events, or statements.\n",
        "Do not provide information not present in the context.\n",
        "If the context does not contain enough information to answer the question, reply with \"I don't know\".\"\n",
        "    context:{context}\"\"\"),\n",
        "    (\"human\",\"{question}\")\n",
        "])"
      ],
      "metadata": {
        "id": "DzwIa4iGCcJj"
      },
      "execution_count": 110,
      "outputs": []
    },
    {
      "cell_type": "code",
      "source": [
        "# for combining the page_contents from retrieved docs\n",
        "def format_docs(retrieved_docs):\n",
        "  context= \"\\n\\n\".join([doc.page_content for doc in retrieved_docs])\n",
        "  return context"
      ],
      "metadata": {
        "id": "XDf_YJgCappZ"
      },
      "execution_count": 111,
      "outputs": []
    },
    {
      "cell_type": "code",
      "source": [
        "# parallel chain\n",
        "parallel_chain=RunnableParallel(\n",
        "                {\n",
        "            \"question\":RunnablePassthrough(),\n",
        "            \"context\":retriever | RunnableLambda(format_docs)\n",
        "                }\n",
        "            )\n",
        "parser=StrOutputParser()  # for getting content\n",
        "main_chain= parallel_chain | prompt | model | parser # main chain"
      ],
      "metadata": {
        "id": "VuKxyvs5jSs0"
      },
      "execution_count": 112,
      "outputs": []
    },
    {
      "cell_type": "code",
      "source": [
        "result=main_chain.invoke(\"Which company acquired nearly 1 percent equity stake in Aether Industries, and at what price per share?\")\n",
        "print(result)"
      ],
      "metadata": {
        "colab": {
          "base_uri": "https://localhost:8080/"
        },
        "id": "pAUeGrNHmFMn",
        "outputId": "04e21ecd-ed6f-4ad4-f606-020ff702a5a0"
      },
      "execution_count": 115,
      "outputs": [
        {
          "output_type": "stream",
          "name": "stdout",
          "text": [
            "Amansa Holdings acquired nearly 1 percent equity stake in Aether Industries. They bought 12.8 lakh shares at Rs 735 per share for Rs 94.27 crore.\n"
          ]
        }
      ]
    },
    {
      "cell_type": "code",
      "source": [],
      "metadata": {
        "id": "KrkeISTNEb-s"
      },
      "execution_count": null,
      "outputs": []
    }
  ]
}